{
  "nbformat": 4,
  "nbformat_minor": 0,
  "metadata": {
    "colab": {
      "name": "Longest_Increasing_Subsequence_PAA.ipynb",
      "provenance": [],
      "collapsed_sections": [],
      "authorship_tag": "ABX9TyN3+/NHIxC3OSiAo2A6UJYk",
      "include_colab_link": true
    },
    "kernelspec": {
      "name": "python3",
      "display_name": "Python 3"
    }
  },
  "cells": [
    {
      "cell_type": "markdown",
      "metadata": {
        "id": "view-in-github",
        "colab_type": "text"
      },
      "source": [
        "<a href=\"https://colab.research.google.com/github/SamuelSSan28/Longest_Increasing_Subsequence_PAA/blob/main/Longest_Increasing_Subsequence_PAA.ipynb\" target=\"_parent\"><img src=\"https://colab.research.google.com/assets/colab-badge.svg\" alt=\"Open In Colab\"/></a>"
      ]
    },
    {
      "cell_type": "markdown",
      "metadata": {
        "id": "mq6iRAcDIZWC"
      },
      "source": [
        "### PSEUDOCÓDIGO"
      ]
    },
    {
      "cell_type": "code",
      "metadata": {
        "id": "rK1KpMj4H5M8"
      },
      "source": [
        "'''\r\n",
        "Entrada: Um vetor X de n´umeros inteiros.\r\n",
        "Saída: Um vetor S de ´ındices de X de tamanho máximo \r\n",
        "\r\n",
        "P = array of length N\r\n",
        "M = array of length N + 1\r\n",
        "\r\n",
        "L = 0\r\n",
        "for i in range 0 to N-1:\r\n",
        "   // Binary search for the largest positive j ≤ L\r\n",
        "   // such that X[M[j]] < X[i]\r\n",
        "   lo = 1\r\n",
        "   hi = L\r\n",
        "   while lo ≤ hi:\r\n",
        "     mid = ceil((lo+hi)/2)\r\n",
        "     if X[M[mid]] < X[i]:\r\n",
        "       lo = mid+1\r\n",
        "     else:\r\n",
        "       hi = mid-1\r\n",
        "\r\n",
        "   // After searching, lo is 1 greater than the\r\n",
        "   // length of the longest prefix of X[i]\r\n",
        "   newL = lo\r\n",
        "\r\n",
        "   // The predecessor of X[i] is the last index of \r\n",
        "   // the subsequence of length newL-1\r\n",
        "   P[i] = M[newL-1]\r\n",
        "   M[newL] = i\r\n",
        "\r\n",
        "   if newL > L:\r\n",
        "     // If we found a subsequence longer than any we've\r\n",
        "     // found yet, update L\r\n",
        "     L = newL\r\n",
        "\r\n",
        " // Reconstruct the longest increasing subsequence\r\n",
        "S = array of length L\r\n",
        "k = M[L]\r\n",
        "for i in range L-1 to 0:\r\n",
        "   S[i] = X[k]\r\n",
        "   k = P[k]\r\n",
        "\r\n",
        "return S\r\n",
        "\r\n",
        "'''"
      ],
      "execution_count": null,
      "outputs": []
    },
    {
      "cell_type": "markdown",
      "metadata": {
        "id": "hYhXrkv6v15C"
      },
      "source": [
        "Implementação"
      ]
    },
    {
      "cell_type": "code",
      "metadata": {
        "id": "5Sd5CJl1Igex"
      },
      "source": [
        "def find_smallest_elem_as_big_as(sequence, subsequence, elem):\r\n",
        "    \"\"\"Returns the index of the smallest element in subsequence as big as          \r\n",
        "    sequence[elem].  sequence[elem] must not be larger than every element in       \r\n",
        "    subsequence.  The elements in subsequence are indices in sequence.  Uses       \r\n",
        "    binary search.\"\"\"\r\n",
        "\r\n",
        "    low = 0\r\n",
        "    high = len(subsequence) - 1\r\n",
        "\r\n",
        "    while high > low:\r\n",
        "        mid = (high + low) // 2\r\n",
        "        # If the current element is not as big as elem, throw out the low half of    \r\n",
        "        # sequence.                                                                  \r\n",
        "        if sequence[subsequence[mid]] < sequence[elem]:\r\n",
        "            low = mid + 1\r\n",
        "            # If the current element is as big as elem, throw out everything bigger, but \r\n",
        "        # keep the current element.                                                  \r\n",
        "        else:\r\n",
        "            high = mid\r\n",
        "\r\n",
        "    return high\r\n",
        "\r\n",
        "\r\n",
        "def optimized_dynamic_programming_solution(sequence):\r\n",
        "    \"\"\"Finds the longest increasing subsequence in sequence using dynamic          \r\n",
        "       programming and binary search. This solution is O(n log n).\"\"\"\r\n",
        "\r\n",
        "    # Both of these lists hold the indices of elements in sequence and not the        \r\n",
        "    # elements themselves.                                                         \r\n",
        "    # This list will always be sorted.                                             \r\n",
        "    smallest_end_to_subsequence_of_length = []\r\n",
        "\r\n",
        "    # This array goes along with sequence (not                                     \r\n",
        "    # smallest_end_to_subsequence_of_length).  Following the corresponding element \r\n",
        "    # in this array repeatedly will generate the desired subsequence.              \r\n",
        "    parent = [None for _ in sequence]\r\n",
        "\r\n",
        "    for elem in range(len(sequence)):\r\n",
        "        # We're iterating through sequence in order, so if elem is bigger than the   \r\n",
        "        # end of longest current subsequence, we have a new longest increasing          \r\n",
        "        # subsequence.                                                               \r\n",
        "        if (len(smallest_end_to_subsequence_of_length) == 0 or\r\n",
        "                    sequence[elem] > sequence[smallest_end_to_subsequence_of_length[-1]]):\r\n",
        "            # If we are adding the first element, it has no parent.  Otherwise, we        \r\n",
        "            # need to update the parent to be the previous biggest element.            \r\n",
        "            if len(smallest_end_to_subsequence_of_length) > 0:\r\n",
        "                parent[elem] = smallest_end_to_subsequence_of_length[-1]\r\n",
        "            smallest_end_to_subsequence_of_length.append(elem)\r\n",
        "        else:\r\n",
        "            # If we can't make a longer subsequence, we might be able to make a        \r\n",
        "            # subsequence of equal size to one of our earlier subsequences with a         \r\n",
        "            # smaller ending number (which makes it easier to find a later number that \r\n",
        "            # is increasing).                                                          \r\n",
        "            # Thus, we look for the smallest element in                                \r\n",
        "            # smallest_end_to_subsequence_of_length that is at least as big as elem       \r\n",
        "            # and replace it with elem.                                                \r\n",
        "            # This preserves correctness because if there is a subsequence of length n \r\n",
        "            # that ends with a number smaller than elem, we could add elem on to the   \r\n",
        "            # end of that subsequence to get a subsequence of length n+1.              \r\n",
        "            location_to_replace = find_smallest_elem_as_big_as(sequence, smallest_end_to_subsequence_of_length, elem)\r\n",
        "            smallest_end_to_subsequence_of_length[location_to_replace] = elem\r\n",
        "            # If we're replacing the first element, we don't need to update its parent \r\n",
        "            # because a subsequence of length 1 has no parent.  Otherwise, its parent  \r\n",
        "            # is the subsequence one shorter, which we just added onto.                \r\n",
        "            if location_to_replace != 0:\r\n",
        "                parent[elem] = (smallest_end_to_subsequence_of_length[location_to_replace - 1])\r\n",
        "\r\n",
        "    # Generate the longest increasing subsequence by backtracking through parent.  \r\n",
        "    curr_parent = smallest_end_to_subsequence_of_length[-1]\r\n",
        "    longest_increasing_subsequence = []\r\n",
        "    \r\n",
        "\r\n",
        "    while curr_parent is not None:\r\n",
        "        longest_increasing_subsequence.append(sequence[curr_parent])\r\n",
        "        curr_parent = parent[curr_parent]\r\n",
        "\r\n",
        "    longest_increasing_subsequence.reverse()\r\n",
        "\r\n",
        "    return longest_increasing_subsequence   \r\n"
      ],
      "execution_count": 17,
      "outputs": []
    },
    {
      "cell_type": "code",
      "metadata": {
        "id": "4BKrdUDVAGin"
      },
      "source": [
        "X = [2, 6, 3, 4, 1, 2, 9, 5, 1] #[0,8,4,12,2,10,6,14,1,9,5,13,3,11,7,15]"
      ],
      "execution_count": 31,
      "outputs": []
    },
    {
      "cell_type": "code",
      "metadata": {
        "colab": {
          "base_uri": "https://localhost:8080/"
        },
        "id": "ubdoI3D6AIIo",
        "outputId": "cfe22638-667a-486d-fd7e-5b6200f4e4d8"
      },
      "source": [
        "optimized_dynamic_programming_solution(X)"
      ],
      "execution_count": 32,
      "outputs": [
        {
          "output_type": "stream",
          "text": [
            "[8, 5, 3, 7] [None, 0, 0, 2, None, 4, 3, 3, None]\n"
          ],
          "name": "stdout"
        },
        {
          "output_type": "execute_result",
          "data": {
            "text/plain": [
              "[2, 3, 4, 5]"
            ]
          },
          "metadata": {
            "tags": []
          },
          "execution_count": 32
        }
      ]
    }
  ]
}